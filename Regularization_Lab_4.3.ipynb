{
 "cells": [
  {
   "cell_type": "code",
   "execution_count": 1,
   "metadata": {
    "collapsed": true
   },
   "outputs": [],
   "source": [
    "import numpy as np\n",
    "import pandas as pd\n",
    "from sklearn import linear_model, metrics, cross_validation"
   ]
  },
  {
   "cell_type": "code",
   "execution_count": 2,
   "metadata": {
    "collapsed": true
   },
   "outputs": [],
   "source": [
    "# define functions in one cell, call when you need\n",
    "def read_csv(path):\n",
    "    return pd.read_csv(path)"
   ]
  },
  {
   "cell_type": "code",
   "execution_count": 3,
   "metadata": {
    "collapsed": false
   },
   "outputs": [],
   "source": [
    "path = '../../assets/datasets/bikeshare.csv'\n",
    "bikeshare = read_csv(path)"
   ]
  },
  {
   "cell_type": "code",
   "execution_count": 26,
   "metadata": {
    "collapsed": false
   },
   "outputs": [
    {
     "data": {
      "text/plain": [
       "(17379, 17)"
      ]
     },
     "execution_count": 26,
     "metadata": {},
     "output_type": "execute_result"
    }
   ],
   "source": [
    "# get the data dictionary of bikeshare to see possible feature candidates\n",
    "\n",
    "bikeshare.columns\n",
    "bikeshare.shape"
   ]
  },
  {
   "cell_type": "code",
   "execution_count": 10,
   "metadata": {
    "collapsed": false
   },
   "outputs": [],
   "source": [
    "# assume we want 2 features, 'temp' and 'hum' and weathersit, because\n",
    "# weathersit is categorical we must make dummy variables\n",
    "# create a new dataframe with only features temp and hum, \n",
    "features = ['temp', 'hum']\n",
    "df = bikeshare[features]\n",
    "\n"
   ]
  },
  {
   "cell_type": "code",
   "execution_count": 28,
   "metadata": {
    "collapsed": false
   },
   "outputs": [
    {
     "data": {
      "text/plain": [
       "RangeIndex(start=0, stop=17379, step=1)"
      ]
     },
     "execution_count": 28,
     "metadata": {},
     "output_type": "execute_result"
    }
   ],
   "source": [
    "# and all dummy variables required for weathersit (hint n - 1 classes)\n",
    "# hint (pd.get_dummies(df_column)) will transform your variable \n",
    "# into n dummy classes\n",
    "\n",
    "dummies = pd.get_dummies(bikeshare.weathersit, prefix = 'weather')\n",
    "dummies.index"
   ]
  },
  {
   "cell_type": "code",
   "execution_count": 31,
   "metadata": {
    "collapsed": false
   },
   "outputs": [],
   "source": [
    "# hint, use .join to merge two dataframes on a common key (default inner join on index)\n",
    "# call your features dataframe 'modeldata' and your y response column 'y'\n",
    "\n",
    "modeldata = df.join(dummies[['weather_1', 'weather_2', 'weather_3']])"
   ]
  },
  {
   "cell_type": "code",
   "execution_count": 33,
   "metadata": {
    "collapsed": true
   },
   "outputs": [],
   "source": [
    "# create y\n",
    "\n",
    "y = bikeshare.casual"
   ]
  },
  {
   "cell_type": "code",
   "execution_count": null,
   "metadata": {
    "collapsed": true
   },
   "outputs": [],
   "source": [
    "kf = cross_validation.KFold(len(modeldata), n_folds=5, shuffle=True)\n",
    "\n",
    "# you must define modeldata in cell above for kf assignment to run\n",
    "# kf returns a dictionary composed of key-value pairs"
   ]
  },
  {
   "cell_type": "code",
   "execution_count": null,
   "metadata": {
    "collapsed": true
   },
   "outputs": [],
   "source": [
    "lm_obj = linear_model.LinearRegression() # instaniate only one time\n",
    "scores = [] # we will append mse scores from each iteration in kf\n",
    "for train_index, test_index in kf: # for (key,value) in dictionary\n",
    "    x_train = modeldata.iloc[train_index] # get new set each iteration\n",
    "    y_train = y.iloc[train_index]\n",
    "    \n",
    "    x_test = modeldata.iloc[test_index] # get new test data each iteration\n",
    "    y_test = y.iloc[test_index]\n",
    "        \n",
    "    lm = lm_obj.fit(x_train, y_train) # fit new model each iteration\n",
    "    x_test_pred = lm.predict(x_test)\n",
    "\n",
    "    mse = metrics.mean_squared_error(y_test,x_test_pred) \n",
    "    # get new mse each iteration\n",
    "    scores.append(mse) # append mse scores from each model to scores list"
   ]
  },
  {
   "cell_type": "code",
   "execution_count": 20,
   "metadata": {
    "collapsed": false
   },
   "outputs": [
    {
     "name": "stdout",
     "output_type": "stream",
     "text": [
      "1673.6009276\n"
     ]
    }
   ],
   "source": [
    "print np.mean(scores) # get the mean of mse scores from each iteration"
   ]
  },
  {
   "cell_type": "code",
   "execution_count": 36,
   "metadata": {
    "collapsed": false
   },
   "outputs": [
    {
     "data": {
      "text/plain": [
       "1672.5811076539349"
      ]
     },
     "execution_count": 36,
     "metadata": {},
     "output_type": "execute_result"
    }
   ],
   "source": [
    "# fit a regression model on all the model and outcome data (modeldata and y)\n",
    "# hint use, linear_model.LinearRegression().fit()\n",
    "\n",
    "fit = linear_model.LinearRegression().fit(modeldata, y)\n",
    "# get predictions from fitted model using same model data\n",
    "\n",
    "predictions = fit.predict(modeldata)\n",
    "# calculate MSE and interpret \n",
    "\n",
    "MSE = metrics.mean_squared_error(y, predictions)\n",
    "MSE\n",
    "# hint MSE = SSE/n = (y - y_est)/n, y_est = lm.predict(modeldata)\n",
    "\n",
    "# Still not sure how to interpret this"
   ]
  },
  {
   "cell_type": "code",
   "execution_count": 39,
   "metadata": {
    "collapsed": false
   },
   "outputs": [
    {
     "data": {
      "text/plain": [
       "1725.415816080957"
      ]
     },
     "execution_count": 39,
     "metadata": {},
     "output_type": "execute_result"
    }
   ],
   "source": [
    "# fit a lasso regression model on all the model and outcome data (modeldata and y)\n",
    "# hint use, linear_model.Lasso().fit()\n",
    "\n",
    "# calculate MSE and interpret\n",
    "# hint MSE = SSE/n = (y - y_est)/n, y_est = lm.predict(modeldata)\n",
    "\n",
    "fit_2 = linear_model.Lasso().fit(modeldata, y)\n",
    "# get predictions from fitted model using same model data\n",
    "\n",
    "predictions_2 = fit_2.predict(modeldata)\n",
    "\n",
    "# calculate MSE and interpret\n",
    "# hint MSE = SSE/n = (y - y_est)/n, y_est = lm.predict(modeldata)\n",
    "MSE_2 = metrics.mean_squared_error(y, predictions_2)\n",
    "MSE_2"
   ]
  },
  {
   "cell_type": "code",
   "execution_count": null,
   "metadata": {
    "collapsed": true
   },
   "outputs": [],
   "source": []
  }
 ],
 "metadata": {
  "kernelspec": {
   "display_name": "Python 2",
   "language": "python",
   "name": "python2"
  },
  "language_info": {
   "codemirror_mode": {
    "name": "ipython",
    "version": 2
   },
   "file_extension": ".py",
   "mimetype": "text/x-python",
   "name": "python",
   "nbconvert_exporter": "python",
   "pygments_lexer": "ipython2",
   "version": "2.7.11"
  }
 },
 "nbformat": 4,
 "nbformat_minor": 0
}
