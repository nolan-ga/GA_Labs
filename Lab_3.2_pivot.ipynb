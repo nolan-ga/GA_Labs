{
 "cells": [
  {
   "cell_type": "markdown",
   "metadata": {},
   "source": [
    "## Lab 3.2 - Pivot Tables"
   ]
  },
  {
   "cell_type": "code",
   "execution_count": 3,
   "metadata": {
    "collapsed": false
   },
   "outputs": [
    {
     "data": {
      "text/html": [
       "<div>\n",
       "<table border=\"1\" class=\"dataframe\">\n",
       "  <thead>\n",
       "    <tr style=\"text-align: right;\">\n",
       "      <th></th>\n",
       "      <th>Song Clean</th>\n",
       "      <th>ARTIST CLEAN</th>\n",
       "      <th>Release Year</th>\n",
       "      <th>COMBINED</th>\n",
       "      <th>First?</th>\n",
       "      <th>Year?</th>\n",
       "      <th>PlayCount</th>\n",
       "      <th>F*G</th>\n",
       "    </tr>\n",
       "  </thead>\n",
       "  <tbody>\n",
       "    <tr>\n",
       "      <th>0</th>\n",
       "      <td>Caught Up in You</td>\n",
       "      <td>.38 Special</td>\n",
       "      <td>1982</td>\n",
       "      <td>Caught Up in You by .38 Special</td>\n",
       "      <td>1</td>\n",
       "      <td>1</td>\n",
       "      <td>82</td>\n",
       "      <td>82</td>\n",
       "    </tr>\n",
       "    <tr>\n",
       "      <th>1</th>\n",
       "      <td>Fantasy Girl</td>\n",
       "      <td>.38 Special</td>\n",
       "      <td>NaN</td>\n",
       "      <td>Fantasy Girl by .38 Special</td>\n",
       "      <td>1</td>\n",
       "      <td>0</td>\n",
       "      <td>3</td>\n",
       "      <td>0</td>\n",
       "    </tr>\n",
       "  </tbody>\n",
       "</table>\n",
       "</div>"
      ],
      "text/plain": [
       "         Song Clean ARTIST CLEAN Release Year  \\\n",
       "0  Caught Up in You  .38 Special         1982   \n",
       "1      Fantasy Girl  .38 Special          NaN   \n",
       "\n",
       "                          COMBINED  First?  Year?  PlayCount  F*G  \n",
       "0  Caught Up in You by .38 Special       1      1         82   82  \n",
       "1      Fantasy Girl by .38 Special       1      0          3    0  "
      ]
     },
     "execution_count": 3,
     "metadata": {},
     "output_type": "execute_result"
    }
   ],
   "source": [
    "import pandas as pd\n",
    "import numpy as np\n",
    "\n",
    "# Read in rock.csv as a data frame\n",
    "\n",
    "rock = pd.read_csv('https://raw.githubusercontent.com/ga-students/DSI-DC-1/master/week-02/3.2-lab/assets/datasets/rock.csv?token=ARcgBy6NeYvj39jTn0WXgZ6Nrnkxg_W0ks5XIN7NwA%3D%3D')\n"
   ]
  },
  {
   "cell_type": "code",
   "execution_count": 4,
   "metadata": {
    "collapsed": false
   },
   "outputs": [
    {
     "data": {
      "text/html": [
       "<div>\n",
       "<table border=\"1\" class=\"dataframe\">\n",
       "  <thead>\n",
       "    <tr style=\"text-align: right;\">\n",
       "      <th></th>\n",
       "      <th>F*G</th>\n",
       "      <th>First?</th>\n",
       "      <th>PlayCount</th>\n",
       "      <th>Year?</th>\n",
       "    </tr>\n",
       "    <tr>\n",
       "      <th>ARTIST CLEAN</th>\n",
       "      <th></th>\n",
       "      <th></th>\n",
       "      <th></th>\n",
       "      <th></th>\n",
       "    </tr>\n",
       "  </thead>\n",
       "  <tbody>\n",
       "    <tr>\n",
       "      <th>.38 Special</th>\n",
       "      <td>46.250000</td>\n",
       "      <td>1.0</td>\n",
       "      <td>47.000000</td>\n",
       "      <td>0.75</td>\n",
       "    </tr>\n",
       "    <tr>\n",
       "      <th>10cc</th>\n",
       "      <td>1.000000</td>\n",
       "      <td>1.0</td>\n",
       "      <td>1.000000</td>\n",
       "      <td>1.00</td>\n",
       "    </tr>\n",
       "    <tr>\n",
       "      <th>3 Doors Down</th>\n",
       "      <td>6.666667</td>\n",
       "      <td>1.0</td>\n",
       "      <td>6.666667</td>\n",
       "      <td>1.00</td>\n",
       "    </tr>\n",
       "  </tbody>\n",
       "</table>\n",
       "</div>"
      ],
      "text/plain": [
       "                    F*G  First?  PlayCount  Year?\n",
       "ARTIST CLEAN                                     \n",
       ".38 Special   46.250000     1.0  47.000000   0.75\n",
       "10cc           1.000000     1.0   1.000000   1.00\n",
       "3 Doors Down   6.666667     1.0   6.666667   1.00"
      ]
     },
     "execution_count": 4,
     "metadata": {},
     "output_type": "execute_result"
    }
   ],
   "source": [
    "# The simplest pivot table must have a dataframe and an index . Let’s use the ARTIST CLEAN as our index.\n",
    "rock_pivot = pd.pivot_table(rock, index=['ARTIST CLEAN'])\n",
    "rock_pivot.head(3)"
   ]
  },
  {
   "cell_type": "code",
   "execution_count": 5,
   "metadata": {
    "collapsed": false
   },
   "outputs": [
    {
     "data": {
      "text/html": [
       "<div>\n",
       "<table border=\"1\" class=\"dataframe\">\n",
       "  <thead>\n",
       "    <tr style=\"text-align: right;\">\n",
       "      <th></th>\n",
       "      <th></th>\n",
       "      <th>F*G</th>\n",
       "      <th>First?</th>\n",
       "      <th>PlayCount</th>\n",
       "      <th>Year?</th>\n",
       "    </tr>\n",
       "    <tr>\n",
       "      <th>ARTIST CLEAN</th>\n",
       "      <th>Release Year</th>\n",
       "      <th></th>\n",
       "      <th></th>\n",
       "      <th></th>\n",
       "      <th></th>\n",
       "    </tr>\n",
       "  </thead>\n",
       "  <tbody>\n",
       "    <tr>\n",
       "      <th rowspan=\"3\" valign=\"top\">.38 Special</th>\n",
       "      <th>1980</th>\n",
       "      <td>18.0</td>\n",
       "      <td>1.0</td>\n",
       "      <td>18.0</td>\n",
       "      <td>1.0</td>\n",
       "    </tr>\n",
       "    <tr>\n",
       "      <th>1981</th>\n",
       "      <td>85.0</td>\n",
       "      <td>1.0</td>\n",
       "      <td>85.0</td>\n",
       "      <td>1.0</td>\n",
       "    </tr>\n",
       "    <tr>\n",
       "      <th>1982</th>\n",
       "      <td>82.0</td>\n",
       "      <td>1.0</td>\n",
       "      <td>82.0</td>\n",
       "      <td>1.0</td>\n",
       "    </tr>\n",
       "    <tr>\n",
       "      <th>10cc</th>\n",
       "      <th>1975</th>\n",
       "      <td>1.0</td>\n",
       "      <td>1.0</td>\n",
       "      <td>1.0</td>\n",
       "      <td>1.0</td>\n",
       "    </tr>\n",
       "  </tbody>\n",
       "</table>\n",
       "</div>"
      ],
      "text/plain": [
       "                            F*G  First?  PlayCount  Year?\n",
       "ARTIST CLEAN Release Year                                \n",
       ".38 Special  1980          18.0     1.0       18.0    1.0\n",
       "             1981          85.0     1.0       85.0    1.0\n",
       "             1982          82.0     1.0       82.0    1.0\n",
       "10cc         1975           1.0     1.0        1.0    1.0"
      ]
     },
     "execution_count": 5,
     "metadata": {},
     "output_type": "execute_result"
    }
   ],
   "source": [
    "# How about indexing on multiple values. Let's look at the \n",
    "# data by ARTIST CLEAN and Release Year next. \n",
    "rock_pivot = pd.pivot_table(rock, index=['ARTIST CLEAN', 'Release Year'])"
   ]
  },
  {
   "cell_type": "code",
   "execution_count": 6,
   "metadata": {
    "collapsed": false
   },
   "outputs": [
    {
     "data": {
      "text/html": [
       "<div>\n",
       "<table border=\"1\" class=\"dataframe\">\n",
       "  <thead>\n",
       "    <tr style=\"text-align: right;\">\n",
       "      <th></th>\n",
       "      <th></th>\n",
       "      <th>PlayCount</th>\n",
       "    </tr>\n",
       "    <tr>\n",
       "      <th>ARTIST CLEAN</th>\n",
       "      <th>Release Year</th>\n",
       "      <th></th>\n",
       "    </tr>\n",
       "  </thead>\n",
       "  <tbody>\n",
       "    <tr>\n",
       "      <th rowspan=\"3\" valign=\"top\">.38 Special</th>\n",
       "      <th>1980</th>\n",
       "      <td>18.0</td>\n",
       "    </tr>\n",
       "    <tr>\n",
       "      <th>1981</th>\n",
       "      <td>85.0</td>\n",
       "    </tr>\n",
       "    <tr>\n",
       "      <th>1982</th>\n",
       "      <td>82.0</td>\n",
       "    </tr>\n",
       "    <tr>\n",
       "      <th>10cc</th>\n",
       "      <th>1975</th>\n",
       "      <td>1.0</td>\n",
       "    </tr>\n",
       "  </tbody>\n",
       "</table>\n",
       "</div>"
      ],
      "text/plain": [
       "                           PlayCount\n",
       "ARTIST CLEAN Release Year           \n",
       ".38 Special  1980               18.0\n",
       "             1981               85.0\n",
       "             1982               82.0\n",
       "10cc         1975                1.0"
      ]
     },
     "execution_count": 6,
     "metadata": {},
     "output_type": "execute_result"
    }
   ],
   "source": [
    "# What we really want to take a look at next is PlayCount. So, \n",
    "# the F*G, First?, and Year? columns aren’t useful. Let’s \n",
    "# remove them and explicitly define the 'PlayCount' column by \n",
    "# using the values field.\n",
    "rock_pivot = pd.pivot_table(rock, index=['ARTIST CLEAN', 'Release Year'], values=['PlayCount'])"
   ]
  },
  {
   "cell_type": "code",
   "execution_count": 8,
   "metadata": {
    "collapsed": false
   },
   "outputs": [
    {
     "data": {
      "text/html": [
       "<div>\n",
       "<table border=\"1\" class=\"dataframe\">\n",
       "  <thead>\n",
       "    <tr style=\"text-align: right;\">\n",
       "      <th></th>\n",
       "      <th></th>\n",
       "      <th>PlayCount</th>\n",
       "    </tr>\n",
       "    <tr>\n",
       "      <th>ARTIST CLEAN</th>\n",
       "      <th>Release Year</th>\n",
       "      <th></th>\n",
       "    </tr>\n",
       "  </thead>\n",
       "  <tbody>\n",
       "    <tr>\n",
       "      <th rowspan=\"3\" valign=\"top\">.38 Special</th>\n",
       "      <th>1980</th>\n",
       "      <td>18</td>\n",
       "    </tr>\n",
       "    <tr>\n",
       "      <th>1981</th>\n",
       "      <td>85</td>\n",
       "    </tr>\n",
       "    <tr>\n",
       "      <th>1982</th>\n",
       "      <td>82</td>\n",
       "    </tr>\n",
       "    <tr>\n",
       "      <th>10cc</th>\n",
       "      <th>1975</th>\n",
       "      <td>1</td>\n",
       "    </tr>\n",
       "    <tr>\n",
       "      <th>3 Doors Down</th>\n",
       "      <th>2000</th>\n",
       "      <td>14</td>\n",
       "    </tr>\n",
       "  </tbody>\n",
       "</table>\n",
       "</div>"
      ],
      "text/plain": [
       "                           PlayCount\n",
       "ARTIST CLEAN Release Year           \n",
       ".38 Special  1980                 18\n",
       "             1981                 85\n",
       "             1982                 82\n",
       "10cc         1975                  1\n",
       "3 Doors Down 2000                 14"
      ]
     },
     "execution_count": 8,
     "metadata": {},
     "output_type": "execute_result"
    }
   ],
   "source": [
    "# The 'PlayCount' column automatically averages the data.  \n",
    "# We can do a count or a sum by using aggfunc and np.sum.\n",
    "rock_pivot = pd.pivot_table(rock, index=['ARTIST CLEAN', 'Release Year'], values=['PlayCount'], aggfunc=np.sum)\n",
    "rock_pivot.head()"
   ]
  },
  {
   "cell_type": "markdown",
   "metadata": {},
   "source": [
    "## Bonus"
   ]
  },
  {
   "cell_type": "code",
   "execution_count": 9,
   "metadata": {
    "collapsed": true
   },
   "outputs": [],
   "source": [
    "# Read in realEstate.csv as a data frame\n",
    "\n",
    "real_estate = pd.read_csv('https://raw.githubusercontent.com/ga-students/DSI-DC-1/master/week-02/3.2-lab/assets/datasets/Sacramentorealestatetransactions.csv?token=ARcgBzwvce95iQ2mHBcJIno02mTmU_6rks5XIOI9wA%3D%3D')\n",
    "\n",
    "\n"
   ]
  },
  {
   "cell_type": "code",
   "execution_count": 10,
   "metadata": {
    "collapsed": false
   },
   "outputs": [
    {
     "data": {
      "text/html": [
       "<div>\n",
       "<table border=\"1\" class=\"dataframe\">\n",
       "  <thead>\n",
       "    <tr style=\"text-align: right;\">\n",
       "      <th></th>\n",
       "      <th>baths</th>\n",
       "      <th>beds</th>\n",
       "      <th>latitude</th>\n",
       "      <th>longitude</th>\n",
       "      <th>price</th>\n",
       "      <th>sq__ft</th>\n",
       "      <th>zip</th>\n",
       "    </tr>\n",
       "    <tr>\n",
       "      <th>city</th>\n",
       "      <th></th>\n",
       "      <th></th>\n",
       "      <th></th>\n",
       "      <th></th>\n",
       "      <th></th>\n",
       "      <th></th>\n",
       "      <th></th>\n",
       "    </tr>\n",
       "  </thead>\n",
       "  <tbody>\n",
       "    <tr>\n",
       "      <th>ANTELOPE</th>\n",
       "      <td>2.212121</td>\n",
       "      <td>3.363636</td>\n",
       "      <td>38.714018</td>\n",
       "      <td>-121.362247</td>\n",
       "      <td>232496.393939</td>\n",
       "      <td>1716.636364</td>\n",
       "      <td>95843.0</td>\n",
       "    </tr>\n",
       "    <tr>\n",
       "      <th>AUBURN</th>\n",
       "      <td>2.600000</td>\n",
       "      <td>3.000000</td>\n",
       "      <td>38.912847</td>\n",
       "      <td>-121.082133</td>\n",
       "      <td>405890.800000</td>\n",
       "      <td>898.600000</td>\n",
       "      <td>95603.0</td>\n",
       "    </tr>\n",
       "    <tr>\n",
       "      <th>CAMERON PARK</th>\n",
       "      <td>1.666667</td>\n",
       "      <td>2.444444</td>\n",
       "      <td>38.685578</td>\n",
       "      <td>-120.998527</td>\n",
       "      <td>267944.444444</td>\n",
       "      <td>224.000000</td>\n",
       "      <td>95682.0</td>\n",
       "    </tr>\n",
       "    <tr>\n",
       "      <th>CARMICHAEL</th>\n",
       "      <td>1.850000</td>\n",
       "      <td>3.050000</td>\n",
       "      <td>38.640161</td>\n",
       "      <td>-121.325816</td>\n",
       "      <td>295684.750000</td>\n",
       "      <td>1553.100000</td>\n",
       "      <td>95608.0</td>\n",
       "    </tr>\n",
       "    <tr>\n",
       "      <th>CITRUS HEIGHTS</th>\n",
       "      <td>1.914286</td>\n",
       "      <td>3.228571</td>\n",
       "      <td>38.701383</td>\n",
       "      <td>-121.300204</td>\n",
       "      <td>187114.914286</td>\n",
       "      <td>1308.685714</td>\n",
       "      <td>95618.8</td>\n",
       "    </tr>\n",
       "  </tbody>\n",
       "</table>\n",
       "</div>"
      ],
      "text/plain": [
       "                   baths      beds   latitude   longitude          price  \\\n",
       "city                                                                       \n",
       "ANTELOPE        2.212121  3.363636  38.714018 -121.362247  232496.393939   \n",
       "AUBURN          2.600000  3.000000  38.912847 -121.082133  405890.800000   \n",
       "CAMERON PARK    1.666667  2.444444  38.685578 -120.998527  267944.444444   \n",
       "CARMICHAEL      1.850000  3.050000  38.640161 -121.325816  295684.750000   \n",
       "CITRUS HEIGHTS  1.914286  3.228571  38.701383 -121.300204  187114.914286   \n",
       "\n",
       "                     sq__ft      zip  \n",
       "city                                  \n",
       "ANTELOPE        1716.636364  95843.0  \n",
       "AUBURN           898.600000  95603.0  \n",
       "CAMERON PARK     224.000000  95682.0  \n",
       "CARMICHAEL      1553.100000  95608.0  \n",
       "CITRUS HEIGHTS  1308.685714  95618.8  "
      ]
     },
     "execution_count": 10,
     "metadata": {},
     "output_type": "execute_result"
    }
   ],
   "source": [
    "# The simplest pivot table must have a dataframe and an \n",
    "# index . Let’s use the city as our index.\n",
    "real_pivot = pd.pivot_table(real_estate, index=['city'])"
   ]
  },
  {
   "cell_type": "code",
   "execution_count": 11,
   "metadata": {
    "collapsed": false
   },
   "outputs": [
    {
     "data": {
      "text/html": [
       "<div>\n",
       "<table border=\"1\" class=\"dataframe\">\n",
       "  <thead>\n",
       "    <tr style=\"text-align: right;\">\n",
       "      <th></th>\n",
       "      <th></th>\n",
       "      <th>baths</th>\n",
       "      <th>beds</th>\n",
       "      <th>latitude</th>\n",
       "      <th>longitude</th>\n",
       "      <th>price</th>\n",
       "      <th>sq__ft</th>\n",
       "    </tr>\n",
       "    <tr>\n",
       "      <th>city</th>\n",
       "      <th>zip</th>\n",
       "      <th></th>\n",
       "      <th></th>\n",
       "      <th></th>\n",
       "      <th></th>\n",
       "      <th></th>\n",
       "      <th></th>\n",
       "    </tr>\n",
       "  </thead>\n",
       "  <tbody>\n",
       "    <tr>\n",
       "      <th>ANTELOPE</th>\n",
       "      <th>95843</th>\n",
       "      <td>2.212121</td>\n",
       "      <td>3.363636</td>\n",
       "      <td>38.714018</td>\n",
       "      <td>-121.362247</td>\n",
       "      <td>232496.393939</td>\n",
       "      <td>1716.636364</td>\n",
       "    </tr>\n",
       "    <tr>\n",
       "      <th>AUBURN</th>\n",
       "      <th>95603</th>\n",
       "      <td>2.600000</td>\n",
       "      <td>3.000000</td>\n",
       "      <td>38.912847</td>\n",
       "      <td>-121.082133</td>\n",
       "      <td>405890.800000</td>\n",
       "      <td>898.600000</td>\n",
       "    </tr>\n",
       "    <tr>\n",
       "      <th>CAMERON PARK</th>\n",
       "      <th>95682</th>\n",
       "      <td>1.666667</td>\n",
       "      <td>2.444444</td>\n",
       "      <td>38.685578</td>\n",
       "      <td>-120.998527</td>\n",
       "      <td>267944.444444</td>\n",
       "      <td>224.000000</td>\n",
       "    </tr>\n",
       "    <tr>\n",
       "      <th>CARMICHAEL</th>\n",
       "      <th>95608</th>\n",
       "      <td>1.850000</td>\n",
       "      <td>3.050000</td>\n",
       "      <td>38.640161</td>\n",
       "      <td>-121.325816</td>\n",
       "      <td>295684.750000</td>\n",
       "      <td>1553.100000</td>\n",
       "    </tr>\n",
       "    <tr>\n",
       "      <th>CITRUS HEIGHTS</th>\n",
       "      <th>95610</th>\n",
       "      <td>2.428571</td>\n",
       "      <td>3.428571</td>\n",
       "      <td>38.699737</td>\n",
       "      <td>-121.263907</td>\n",
       "      <td>226436.285714</td>\n",
       "      <td>1578.142857</td>\n",
       "    </tr>\n",
       "  </tbody>\n",
       "</table>\n",
       "</div>"
      ],
      "text/plain": [
       "                         baths      beds   latitude   longitude  \\\n",
       "city           zip                                                \n",
       "ANTELOPE       95843  2.212121  3.363636  38.714018 -121.362247   \n",
       "AUBURN         95603  2.600000  3.000000  38.912847 -121.082133   \n",
       "CAMERON PARK   95682  1.666667  2.444444  38.685578 -120.998527   \n",
       "CARMICHAEL     95608  1.850000  3.050000  38.640161 -121.325816   \n",
       "CITRUS HEIGHTS 95610  2.428571  3.428571  38.699737 -121.263907   \n",
       "\n",
       "                              price       sq__ft  \n",
       "city           zip                                \n",
       "ANTELOPE       95843  232496.393939  1716.636364  \n",
       "AUBURN         95603  405890.800000   898.600000  \n",
       "CAMERON PARK   95682  267944.444444   224.000000  \n",
       "CARMICHAEL     95608  295684.750000  1553.100000  \n",
       "CITRUS HEIGHTS 95610  226436.285714  1578.142857  "
      ]
     },
     "execution_count": 11,
     "metadata": {},
     "output_type": "execute_result"
    }
   ],
   "source": [
    "# How about indexing on multiple values. Let's look at the \n",
    "# data by city and zip next. \n",
    "real_pivot = pd.pivot_table(real_estate, index=['city', 'zip'])\n"
   ]
  },
  {
   "cell_type": "code",
   "execution_count": 13,
   "metadata": {
    "collapsed": false
   },
   "outputs": [
    {
     "data": {
      "text/html": [
       "<div>\n",
       "<table border=\"1\" class=\"dataframe\">\n",
       "  <thead>\n",
       "    <tr style=\"text-align: right;\">\n",
       "      <th></th>\n",
       "      <th></th>\n",
       "      <th>price</th>\n",
       "    </tr>\n",
       "    <tr>\n",
       "      <th>city</th>\n",
       "      <th>zip</th>\n",
       "      <th></th>\n",
       "    </tr>\n",
       "  </thead>\n",
       "  <tbody>\n",
       "    <tr>\n",
       "      <th>ANTELOPE</th>\n",
       "      <th>95843</th>\n",
       "      <td>7672381</td>\n",
       "    </tr>\n",
       "    <tr>\n",
       "      <th>AUBURN</th>\n",
       "      <th>95603</th>\n",
       "      <td>2029454</td>\n",
       "    </tr>\n",
       "    <tr>\n",
       "      <th>CAMERON PARK</th>\n",
       "      <th>95682</th>\n",
       "      <td>2411500</td>\n",
       "    </tr>\n",
       "    <tr>\n",
       "      <th>CARMICHAEL</th>\n",
       "      <th>95608</th>\n",
       "      <td>5913695</td>\n",
       "    </tr>\n",
       "    <tr>\n",
       "      <th>CITRUS HEIGHTS</th>\n",
       "      <th>95610</th>\n",
       "      <td>1585054</td>\n",
       "    </tr>\n",
       "  </tbody>\n",
       "</table>\n",
       "</div>"
      ],
      "text/plain": [
       "                        price\n",
       "city           zip           \n",
       "ANTELOPE       95843  7672381\n",
       "AUBURN         95603  2029454\n",
       "CAMERON PARK   95682  2411500\n",
       "CARMICHAEL     95608  5913695\n",
       "CITRUS HEIGHTS 95610  1585054"
      ]
     },
     "execution_count": 13,
     "metadata": {},
     "output_type": "execute_result"
    }
   ],
   "source": [
    "# What we really want to take a look at next is price. So, \n",
    "# let's explicitly define the 'price' column by \n",
    "# using the values field.\n",
    "\n",
    "# The 'price' column automatically averages the data.  \n",
    "# We can do a count or a sum by using aggfunc and np.sum.\n",
    "real_pivot = pd.pivot_table(real_estate, index=['city', 'zip'], values=['price'], aggfunc=np.sum)\n",
    "real_pivot.head()"
   ]
  },
  {
   "cell_type": "code",
   "execution_count": null,
   "metadata": {
    "collapsed": true
   },
   "outputs": [],
   "source": []
  }
 ],
 "metadata": {
  "kernelspec": {
   "display_name": "Python 2",
   "language": "python",
   "name": "python2"
  },
  "language_info": {
   "codemirror_mode": {
    "name": "ipython",
    "version": 2
   },
   "file_extension": ".py",
   "mimetype": "text/x-python",
   "name": "python",
   "nbconvert_exporter": "python",
   "pygments_lexer": "ipython2",
   "version": "2.7.11"
  }
 },
 "nbformat": 4,
 "nbformat_minor": 0
}
