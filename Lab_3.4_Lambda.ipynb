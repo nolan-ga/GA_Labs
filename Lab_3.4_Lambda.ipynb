{
 "cells": [
  {
   "cell_type": "markdown",
   "metadata": {},
   "source": [
    "## Lab 3.4"
   ]
  },
  {
   "cell_type": "code",
   "execution_count": 70,
   "metadata": {
    "collapsed": true
   },
   "outputs": [],
   "source": [
    "import pandas as pd\n",
    "import numpy as np\n",
    "import math"
   ]
  },
  {
   "cell_type": "code",
   "execution_count": 71,
   "metadata": {
    "collapsed": true
   },
   "outputs": [],
   "source": [
    "# read in the raw data from the github url\n",
    "\n",
    "data = pd.read_csv(\"https://raw.githubusercontent.com/suneel0101/lesson-plan/master/crunchbase_monthly_export.csv\")"
   ]
  },
  {
   "cell_type": "markdown",
   "metadata": {},
   "source": [
    "#### find missing values"
   ]
  },
  {
   "cell_type": "code",
   "execution_count": 79,
   "metadata": {
    "collapsed": false
   },
   "outputs": [
    {
     "data": {
      "text/plain": [
       "0    False\n",
       "1    False\n",
       "2    False\n",
       "3    False\n",
       "4    False\n",
       "Name: founded_year, dtype: bool"
      ]
     },
     "execution_count": 79,
     "metadata": {},
     "output_type": "execute_result"
    }
   ],
   "source": [
    "# below I locate missing values in the \"founded_year\" column\n",
    "missing_foundYear = data['founded_year'].isnull()\n",
    "missing_foundYear.head()"
   ]
  },
  {
   "cell_type": "markdown",
   "metadata": {},
   "source": [
    "#### fill missing data in with the mean"
   ]
  },
  {
   "cell_type": "code",
   "execution_count": 83,
   "metadata": {
    "collapsed": false
   },
   "outputs": [
    {
     "data": {
      "text/plain": [
       "0    2007.083461\n",
       "1    2012.000000\n",
       "2    2007.083461\n",
       "3    2012.000000\n",
       "Name: founded_year, dtype: float64"
      ]
     },
     "execution_count": 83,
     "metadata": {},
     "output_type": "execute_result"
    }
   ],
   "source": [
    "# First I assign mean of the 'founded_year' column to a variable, and round:\n",
    "\n",
    "foundYear_avg = data['founded_year'].mean()\n",
    "\n",
    "\n",
    "# Next I fill the values back in:\n",
    "\n",
    "data['founded_year'] = data['founded_year'].fillna(foundYear_avg)\n",
    "\n",
    "# To prove that it works, I print the head of the data frame:\n",
    "\n",
    "data['founded_year'].head(4)"
   ]
  },
  {
   "cell_type": "markdown",
   "metadata": {},
   "source": [
    "#### Write an equivalent lambda function"
   ]
  },
  {
   "cell_type": "code",
   "execution_count": 81,
   "metadata": {
    "collapsed": false
   },
   "outputs": [
    {
     "data": {
      "text/plain": [
       "81"
      ]
     },
     "execution_count": 81,
     "metadata": {},
     "output_type": "execute_result"
    }
   ],
   "source": [
    "# Write the equivalent lambda function for the following def function: \n",
    "\n",
    "def f (x): return x**2\n",
    "\n",
    "# Equivalent lambda function:\n",
    "\n",
    "square_lambda = lambda x: x**2\n",
    "\n",
    "square_lambda(9)"
   ]
  },
  {
   "cell_type": "code",
   "execution_count": null,
   "metadata": {
    "collapsed": true
   },
   "outputs": [],
   "source": []
  }
 ],
 "metadata": {
  "kernelspec": {
   "display_name": "Python 2",
   "language": "python",
   "name": "python2"
  },
  "language_info": {
   "codemirror_mode": {
    "name": "ipython",
    "version": 2
   },
   "file_extension": ".py",
   "mimetype": "text/x-python",
   "name": "python",
   "nbconvert_exporter": "python",
   "pygments_lexer": "ipython2",
   "version": "2.7.11"
  }
 },
 "nbformat": 4,
 "nbformat_minor": 0
}
