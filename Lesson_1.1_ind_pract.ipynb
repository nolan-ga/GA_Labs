{
 "cells": [
  {
   "cell_type": "code",
   "execution_count": 1,
   "metadata": {
    "collapsed": true
   },
   "outputs": [],
   "source": [
    "import pandas as pd\n",
    "\n",
    "# Read in this star wars survey csv\n",
    "star_wars = pd.read_csv('https://raw.githubusercontent.com/fivethirtyeight/data/master/star-wars-survey/StarWars.csv')"
   ]
  },
  {
   "cell_type": "code",
   "execution_count": 2,
   "metadata": {
    "collapsed": false
   },
   "outputs": [
    {
     "name": "stdout",
     "output_type": "stream",
     "text": [
      "The head function shows columns as questions related to\n",
      "attitudes about Star Wars. It also shows columns about individuals'\n",
      "demographic characteristics. The .describe() function only provides\n",
      "info about the ID column since it's the only numeric column.\n"
     ]
    }
   ],
   "source": [
    "# Look at its head, tail, and summary stats\n",
    "# What does this tell you about the dataset?\n",
    "star_head = star_wars.head()\n",
    "star_tail = star_wars.tail()\n",
    "descriptive_stats = star_wars.describe()\n",
    "print '''The head function shows columns as questions related to\n",
    "attitudes about Star Wars. It also shows columns about individuals'\n",
    "demographic characteristics. The .describe() function only provides\n",
    "info about the ID column since it's the only numeric column.'''"
   ]
  },
  {
   "cell_type": "code",
   "execution_count": 3,
   "metadata": {
    "collapsed": false
   },
   "outputs": [
    {
     "name": "stdout",
     "output_type": "stream",
     "text": [
      "The first couple rows of the fourth column are 0    Star Wars: Episode I  The Phantom Menace\n",
      "1    Star Wars: Episode I  The Phantom Menace\n",
      "2                                         NaN\n",
      "Name: Which of the following Star Wars films have you seen? Please select all that apply., dtype: object:\n",
      "The 2nd and 3rd rows look like this:    RespondentID Have you seen any of the 6 films in the Star Wars franchise?  \\\n",
      "2  3.292880e+09                                                 No             \n",
      "3  3.292765e+09                                                Yes             \n",
      "\n",
      "  Do you consider yourself to be a fan of the Star Wars film franchise?  \\\n",
      "2                                                NaN                      \n",
      "3                                                 No                      \n",
      "\n",
      "  Which of the following Star Wars films have you seen? Please select all that apply.  \\\n",
      "2                                                NaN                                    \n",
      "3           Star Wars: Episode I  The Phantom Menace                                    \n",
      "\n",
      "                                    Unnamed: 4  \\\n",
      "2                                          NaN   \n",
      "3  Star Wars: Episode II  Attack of the Clones   \n",
      "\n",
      "                                    Unnamed: 5 Unnamed: 6 Unnamed: 7  \\\n",
      "2                                          NaN        NaN        NaN   \n",
      "3  Star Wars: Episode III  Revenge of the Sith        NaN        NaN   \n",
      "\n",
      "  Unnamed: 8  \\\n",
      "2        NaN   \n",
      "3        NaN   \n",
      "\n",
      "  Please rank the Star Wars films in order of preference with 1 being your favorite film in the franchise and 6 being your least favorite film.  \\\n",
      "2                                                NaN                                                                                              \n",
      "3                                                  1                                                                                              \n",
      "\n",
      "            ...                  Unnamed: 28  \\\n",
      "2           ...                          NaN   \n",
      "3           ...             Unfamiliar (N/A)   \n",
      "\n",
      "        Which character shot first?  \\\n",
      "2                               NaN   \n",
      "3  I don't understand this question   \n",
      "\n",
      "  Are you familiar with the Expanded Universe?  \\\n",
      "2                                          NaN   \n",
      "3                                           No   \n",
      "\n",
      "  Do you consider yourself to be a fan of the Expanded Universe?��  \\\n",
      "2                                                NaN                 \n",
      "3                                                NaN                 \n",
      "\n",
      "  Do you consider yourself to be a fan of the Star Trek franchise? Gender  \\\n",
      "2                                                Yes                 Male   \n",
      "3                                                 No                 Male   \n",
      "\n",
      "     Age Household Income           Education Location (Census Region)  \n",
      "2  18-29     $0 - $24,999     Bachelor degree       West South Central  \n",
      "3  18-29     $0 - $24,999  High school degree       West North Central  \n",
      "\n",
      "[2 rows x 38 columns]\n"
     ]
    }
   ],
   "source": [
    "# Select a certain column\n",
    "test_col = star_wars.iloc[0:3, 3]\n",
    "print \"The first couple rows of the fourth column are %r:\" % test_col\n",
    "slice_rows = star_wars.iloc[2:4, :]\n",
    "print \"The 2nd and 3rd rows look like this: %r\" % slice_rows"
   ]
  },
  {
   "cell_type": "code",
   "execution_count": 4,
   "metadata": {
    "collapsed": false
   },
   "outputs": [
    {
     "name": "stdout",
     "output_type": "stream",
     "text": [
      "The point at index [3,4] is 'Star Wars: Episode II  Attack of the Clones'\n"
     ]
    }
   ],
   "source": [
    "# Select a data point based on position\n",
    "data_point = star_wars.iloc[3,4]\n",
    "print \"The point at index [3,4] is %r\" % data_point"
   ]
  },
  {
   "cell_type": "code",
   "execution_count": 7,
   "metadata": {
    "collapsed": false
   },
   "outputs": [
    {
     "name": "stdout",
     "output_type": "stream",
     "text": [
      "int64\n"
     ]
    }
   ],
   "source": [
    "#convert types\n",
    "id_column = star_wars.iloc[1:, 0]\n",
    "change_id_int = id_column.astype(int)\n",
    "print change_id_int.dtypes"
   ]
  },
  {
   "cell_type": "code",
   "execution_count": 8,
   "metadata": {
    "collapsed": false
   },
   "outputs": [
    {
     "name": "stdout",
     "output_type": "stream",
     "text": [
      "       No  Yes\n",
      "1     0.0  1.0\n",
      "2     1.0  0.0\n",
      "3     0.0  1.0\n",
      "4     0.0  1.0\n",
      "5     0.0  1.0\n",
      "6     0.0  1.0\n",
      "7     0.0  1.0\n",
      "8     0.0  1.0\n",
      "9     0.0  1.0\n",
      "10    0.0  1.0\n",
      "11    0.0  1.0\n",
      "12    1.0  0.0\n",
      "13    0.0  1.0\n",
      "14    0.0  1.0\n",
      "15    0.0  1.0\n",
      "16    0.0  1.0\n",
      "17    0.0  1.0\n",
      "18    0.0  1.0\n",
      "19    0.0  1.0\n",
      "20    0.0  1.0\n",
      "21    0.0  1.0\n",
      "22    0.0  1.0\n",
      "23    0.0  1.0\n",
      "24    0.0  1.0\n",
      "25    0.0  1.0\n",
      "26    1.0  0.0\n",
      "27    0.0  1.0\n",
      "28    0.0  1.0\n",
      "29    0.0  1.0\n",
      "30    0.0  1.0\n",
      "...   ...  ...\n",
      "1157  0.0  1.0\n",
      "1158  1.0  0.0\n",
      "1159  0.0  1.0\n",
      "1160  1.0  0.0\n",
      "1161  0.0  1.0\n",
      "1162  0.0  1.0\n",
      "1163  0.0  1.0\n",
      "1164  0.0  1.0\n",
      "1165  0.0  1.0\n",
      "1166  0.0  1.0\n",
      "1167  0.0  1.0\n",
      "1168  0.0  1.0\n",
      "1169  1.0  0.0\n",
      "1170  0.0  1.0\n",
      "1171  1.0  0.0\n",
      "1172  0.0  1.0\n",
      "1173  0.0  1.0\n",
      "1174  0.0  1.0\n",
      "1175  0.0  1.0\n",
      "1176  0.0  1.0\n",
      "1177  0.0  1.0\n",
      "1178  0.0  1.0\n",
      "1179  1.0  0.0\n",
      "1180  0.0  1.0\n",
      "1181  0.0  1.0\n",
      "1182  0.0  1.0\n",
      "1183  0.0  1.0\n",
      "1184  1.0  0.0\n",
      "1185  0.0  1.0\n",
      "1186  0.0  1.0\n",
      "\n",
      "[1186 rows x 2 columns]\n"
     ]
    }
   ],
   "source": [
    "#Create a dummy variable for the yes and no answers\n",
    "dummy_column = star_wars.iloc[1:,1]\n",
    "print pd.get_dummies(dummy_column)"
   ]
  }
 ],
 "metadata": {
  "kernelspec": {
   "display_name": "Python 2",
   "language": "python",
   "name": "python2"
  },
  "language_info": {
   "codemirror_mode": {
    "name": "ipython",
    "version": 2
   },
   "file_extension": ".py",
   "mimetype": "text/x-python",
   "name": "python",
   "nbconvert_exporter": "python",
   "pygments_lexer": "ipython2",
   "version": "2.7.11"
  }
 },
 "nbformat": 4,
 "nbformat_minor": 0
}
